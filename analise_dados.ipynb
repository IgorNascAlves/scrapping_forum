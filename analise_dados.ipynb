{
  "nbformat": 4,
  "nbformat_minor": 0,
  "metadata": {
    "colab": {
      "name": "analise_dados.ipynb",
      "provenance": [],
      "collapsed_sections": [],
      "authorship_tag": "ABX9TyPxzBJZhpEYgbNVHC/qY4im",
      "include_colab_link": true
    },
    "kernelspec": {
      "name": "python3",
      "display_name": "Python 3"
    },
    "language_info": {
      "name": "python"
    }
  },
  "cells": [
    {
      "cell_type": "markdown",
      "metadata": {
        "id": "view-in-github",
        "colab_type": "text"
      },
      "source": [
        "<a href=\"https://colab.research.google.com/github/IgorNascAlves/scrapping_forum/blob/main/analise_dados.ipynb\" target=\"_parent\"><img src=\"https://colab.research.google.com/assets/colab-badge.svg\" alt=\"Open In Colab\"/></a>"
      ]
    },
    {
      "cell_type": "markdown",
      "metadata": {
        "id": "mjV_j071oNFc"
      },
      "source": [
        "#Imports e carregando dados"
      ]
    },
    {
      "cell_type": "code",
      "metadata": {
        "id": "cL2um2H_sr0U"
      },
      "source": [
        "import pandas as pd\n",
        "import seaborn as sns\n",
        "import matplotlib.pyplot as plt"
      ],
      "execution_count": 39,
      "outputs": []
    },
    {
      "cell_type": "code",
      "metadata": {
        "id": "IbvUv2vls8PU"
      },
      "source": [
        "url = \"https://raw.githubusercontent.com/IgorNascAlves/scrapping_forum/main/subcategoria_topicos_sem_resposta.csv\""
      ],
      "execution_count": 40,
      "outputs": []
    },
    {
      "cell_type": "code",
      "metadata": {
        "colab": {
          "base_uri": "https://localhost:8080/",
          "height": 195
        },
        "id": "5sH9zA12svLB",
        "outputId": "867617f2-45a2-480f-faac-29b54034f4fb"
      },
      "source": [
        "df = pd.read_csv(url)\n",
        "df.head()"
      ],
      "execution_count": 41,
      "outputs": [
        {
          "output_type": "execute_result",
          "data": {
            "text/html": [
              "<div>\n",
              "<style scoped>\n",
              "    .dataframe tbody tr th:only-of-type {\n",
              "        vertical-align: middle;\n",
              "    }\n",
              "\n",
              "    .dataframe tbody tr th {\n",
              "        vertical-align: top;\n",
              "    }\n",
              "\n",
              "    .dataframe thead th {\n",
              "        text-align: right;\n",
              "    }\n",
              "</style>\n",
              "<table border=\"1\" class=\"dataframe\">\n",
              "  <thead>\n",
              "    <tr style=\"text-align: right;\">\n",
              "      <th></th>\n",
              "      <th>URL</th>\n",
              "      <th>Nome</th>\n",
              "      <th>Quantidade</th>\n",
              "    </tr>\n",
              "  </thead>\n",
              "  <tbody>\n",
              "    <tr>\n",
              "      <th>0</th>\n",
              "      <td>https://cursos.alura.com.br/forum/subcategoria...</td>\n",
              "      <td>Multiplataforma</td>\n",
              "      <td>22</td>\n",
              "    </tr>\n",
              "    <tr>\n",
              "      <th>1</th>\n",
              "      <td>https://cursos.alura.com.br/forum/subcategoria...</td>\n",
              "      <td>Flutter</td>\n",
              "      <td>2</td>\n",
              "    </tr>\n",
              "    <tr>\n",
              "      <th>2</th>\n",
              "      <td>https://cursos.alura.com.br/forum/subcategoria...</td>\n",
              "      <td>Android</td>\n",
              "      <td>7</td>\n",
              "    </tr>\n",
              "    <tr>\n",
              "      <th>3</th>\n",
              "      <td>https://cursos.alura.com.br/forum/subcategoria...</td>\n",
              "      <td>iOS</td>\n",
              "      <td>9</td>\n",
              "    </tr>\n",
              "    <tr>\n",
              "      <th>4</th>\n",
              "      <td>https://cursos.alura.com.br/forum/subcategoria...</td>\n",
              "      <td>Jogos</td>\n",
              "      <td>3</td>\n",
              "    </tr>\n",
              "  </tbody>\n",
              "</table>\n",
              "</div>"
            ],
            "text/plain": [
              "                                                 URL  ... Quantidade\n",
              "0  https://cursos.alura.com.br/forum/subcategoria...  ...         22\n",
              "1  https://cursos.alura.com.br/forum/subcategoria...  ...          2\n",
              "2  https://cursos.alura.com.br/forum/subcategoria...  ...          7\n",
              "3  https://cursos.alura.com.br/forum/subcategoria...  ...          9\n",
              "4  https://cursos.alura.com.br/forum/subcategoria...  ...          3\n",
              "\n",
              "[5 rows x 3 columns]"
            ]
          },
          "metadata": {
            "tags": []
          },
          "execution_count": 41
        }
      ]
    },
    {
      "cell_type": "code",
      "metadata": {
        "id": "JggiBgkY5LkR",
        "colab": {
          "base_uri": "https://localhost:8080/"
        },
        "outputId": "eece87ea-3e07-4cb2-ce5a-4f022a9c9bc9"
      },
      "source": [
        "df.info()"
      ],
      "execution_count": 42,
      "outputs": [
        {
          "output_type": "stream",
          "text": [
            "<class 'pandas.core.frame.DataFrame'>\n",
            "RangeIndex: 112 entries, 0 to 111\n",
            "Data columns (total 3 columns):\n",
            " #   Column      Non-Null Count  Dtype \n",
            "---  ------      --------------  ----- \n",
            " 0   URL         112 non-null    object\n",
            " 1   Nome        112 non-null    object\n",
            " 2   Quantidade  112 non-null    int64 \n",
            "dtypes: int64(1), object(2)\n",
            "memory usage: 2.8+ KB\n"
          ],
          "name": "stdout"
        }
      ]
    },
    {
      "cell_type": "markdown",
      "metadata": {
        "id": "DdMowBHRoFlW"
      },
      "source": [
        "#Explorando"
      ]
    },
    {
      "cell_type": "markdown",
      "metadata": {
        "id": "8LmjIbzcuwiJ"
      },
      "source": [
        "Quantidade de subcategorias"
      ]
    },
    {
      "cell_type": "code",
      "metadata": {
        "colab": {
          "base_uri": "https://localhost:8080/"
        },
        "id": "zCfSaN-nvOhD",
        "outputId": "63b4989b-ab07-440d-a388-ffa9613f43d6"
      },
      "source": [
        "df.shape"
      ],
      "execution_count": 43,
      "outputs": [
        {
          "output_type": "execute_result",
          "data": {
            "text/plain": [
              "(112, 3)"
            ]
          },
          "metadata": {
            "tags": []
          },
          "execution_count": 43
        }
      ]
    },
    {
      "cell_type": "code",
      "metadata": {
        "colab": {
          "base_uri": "https://localhost:8080/"
        },
        "id": "2wFS58SJuoa7",
        "outputId": "f90c463c-6b80-4c83-9fa3-ef9a681c44ae"
      },
      "source": [
        "qtd_subcategorias = len(df.Nome.unique())\n",
        "qtd_subcategorias"
      ],
      "execution_count": 44,
      "outputs": [
        {
          "output_type": "execute_result",
          "data": {
            "text/plain": [
              "112"
            ]
          },
          "metadata": {
            "tags": []
          },
          "execution_count": 44
        }
      ]
    },
    {
      "cell_type": "code",
      "metadata": {
        "colab": {
          "base_uri": "https://localhost:8080/"
        },
        "id": "zo_K1lvcwPBU",
        "outputId": "de4e7eac-a2cb-4dc4-db9c-99a9152b47c7"
      },
      "source": [
        "df.Quantidade.value_counts()"
      ],
      "execution_count": 45,
      "outputs": [
        {
          "output_type": "execute_result",
          "data": {
            "text/plain": [
              "16     8\n",
              "2      6\n",
              "0      5\n",
              "12     5\n",
              "9      5\n",
              "1      4\n",
              "33     4\n",
              "36     4\n",
              "11     4\n",
              "22     3\n",
              "15     3\n",
              "19     3\n",
              "8      3\n",
              "5      3\n",
              "4      3\n",
              "29     2\n",
              "14     2\n",
              "10     2\n",
              "20     2\n",
              "3      2\n",
              "24     2\n",
              "25     2\n",
              "28     2\n",
              "26     2\n",
              "89     2\n",
              "34     2\n",
              "180    2\n",
              "30     1\n",
              "43     1\n",
              "100    1\n",
              "95     1\n",
              "84     1\n",
              "82     1\n",
              "6      1\n",
              "7      1\n",
              "69     1\n",
              "60     1\n",
              "49     1\n",
              "13     1\n",
              "27     1\n",
              "41     1\n",
              "40     1\n",
              "38     1\n",
              "17     1\n",
              "18     1\n",
              "147    1\n",
              "37     1\n",
              "21     1\n",
              "32     1\n",
              "159    1\n",
              "112    1\n",
              "125    1\n",
              "Name: Quantidade, dtype: int64"
            ]
          },
          "metadata": {
            "tags": []
          },
          "execution_count": 45
        }
      ]
    },
    {
      "cell_type": "code",
      "metadata": {
        "colab": {
          "base_uri": "https://localhost:8080/",
          "height": 296
        },
        "id": "JP2qlodmxbsV",
        "outputId": "e88f9a43-9362-436b-da04-bf589c82f71f"
      },
      "source": [
        "sns.histplot(x='Quantidade', data=df)"
      ],
      "execution_count": 46,
      "outputs": [
        {
          "output_type": "execute_result",
          "data": {
            "text/plain": [
              "<matplotlib.axes._subplots.AxesSubplot at 0x7ff16b3bb710>"
            ]
          },
          "metadata": {
            "tags": []
          },
          "execution_count": 46
        },
        {
          "output_type": "display_data",
          "data": {
            "image/png": "[encoded data removed]",
            "text/plain": [
              "<Figure size 432x288 with 1 Axes>"
            ]
          },
          "metadata": {
            "tags": [],
            "needs_background": "light"
          }
        }
      ]
    },
    {
      "cell_type": "code",
      "metadata": {
        "colab": {
          "base_uri": "https://localhost:8080/",
          "height": 533
        },
        "id": "j8YQL3uly87Q",
        "outputId": "0632edf7-34ce-49e0-a7b7-46b67f83bd76"
      },
      "source": [
        "plt.figure(figsize=(10,7))\n",
        "ax = sns.barplot(x=\"Nome\", y=\"Quantidade\", data=df.sort_values(\"Quantidade\", ascending=False).head(20), palette='crest')\n",
        "_ = plt.xticks(rotation=45, ha='right') "
      ],
      "execution_count": 47,
      "outputs": [
        {
          "output_type": "display_data",
          "data": {
            "image/png": "[encoded data removed]",
            "text/plain": [
              "<Figure size 720x504 with 1 Axes>"
            ]
          },
          "metadata": {
            "tags": [],
            "needs_background": "light"
          }
        }
      ]
    },
    {
      "cell_type": "code",
      "metadata": {
        "colab": {
          "base_uri": "https://localhost:8080/",
          "height": 600
        },
        "id": "vVLg1rxV2238",
        "outputId": "f57225f9-9782-4ab2-e51b-0e9ec911107e"
      },
      "source": [
        "plt.figure(figsize=(10,7))\n",
        "ax = sns.barplot(x=\"Nome\", y=\"Quantidade\", data=df.sort_values(\"Quantidade\", ascending=False).tail(20), palette='crest')\n",
        "ax.set_title('Tail 20 - ')\n",
        "_ = plt.xticks(rotation=45, ha='right') "
      ],
      "execution_count": 48,
      "outputs": [
        {
          "output_type": "display_data",
          "data": {
            "image/png": "[encoded data removed]",
            "text/plain": [
              "<Figure size 720x504 with 1 Axes>"
            ]
          },
          "metadata": {
            "tags": [],
            "needs_background": "light"
          }
        }
      ]
    },
    {
      "cell_type": "markdown",
      "metadata": {
        "id": "MsEK7A4y6Dn6"
      },
      "source": [
        "Quantidade de subcategorias com mais de uma pagina"
      ]
    },
    {
      "cell_type": "code",
      "metadata": {
        "id": "Yu2yhp546OmS",
        "colab": {
          "base_uri": "https://localhost:8080/"
        },
        "outputId": "72d49889-4fa6-4eee-d13c-0b1c8a3d5947"
      },
      "source": [
        "df.query('Quantidade > 20')['Quantidade'].count()"
      ],
      "execution_count": 49,
      "outputs": [
        {
          "output_type": "execute_result",
          "data": {
            "text/plain": [
              "47"
            ]
          },
          "metadata": {
            "tags": []
          },
          "execution_count": 49
        }
      ]
    },
    {
      "cell_type": "code",
      "metadata": {
        "id": "xnqlq3AJ7C1B"
      },
      "source": [
        "df[\"Mais_uma_pag\"] = [True if row > 20 else False for row in df['Quantidade']]"
      ],
      "execution_count": 50,
      "outputs": []
    },
    {
      "cell_type": "code",
      "metadata": {
        "id": "vTb7W6od9gn3",
        "colab": {
          "base_uri": "https://localhost:8080/"
        },
        "outputId": "3dcbd6ff-450f-4741-e318-d067b474e5f3"
      },
      "source": [
        "df.value_counts(\"Mais_uma_pag\")"
      ],
      "execution_count": 51,
      "outputs": [
        {
          "output_type": "execute_result",
          "data": {
            "text/plain": [
              "Mais_uma_pag\n",
              "False    65\n",
              "True     47\n",
              "dtype: int64"
            ]
          },
          "metadata": {
            "tags": []
          },
          "execution_count": 51
        }
      ]
    },
    {
      "cell_type": "code",
      "metadata": {
        "id": "WK2tAA3W7c4i",
        "colab": {
          "base_uri": "https://localhost:8080/"
        },
        "outputId": "1d2e1a96-e04b-425a-f85b-eda2d72cec7b"
      },
      "source": [
        "df.value_counts(\"Mais_uma_pag\", normalize=True)*100"
      ],
      "execution_count": 52,
      "outputs": [
        {
          "output_type": "execute_result",
          "data": {
            "text/plain": [
              "Mais_uma_pag\n",
              "False    58.035714\n",
              "True     41.964286\n",
              "dtype: float64"
            ]
          },
          "metadata": {
            "tags": []
          },
          "execution_count": 52
        }
      ]
    },
    {
      "cell_type": "code",
      "metadata": {
        "id": "6D10jh7c72CF",
        "colab": {
          "base_uri": "https://localhost:8080/",
          "height": 570
        },
        "outputId": "328de654-2704-4250-b18f-f4cd2ce12388"
      },
      "source": [
        "plt.figure(figsize=(10,7))\n",
        "ax = sns.barplot(x=\"Nome\", y=\"Quantidade\", data=df.query(\"Mais_uma_pag == True\").sort_values(\"Quantidade\", ascending=False).tail(20), palette='crest')\n",
        "_ = plt.xticks(rotation=45, ha='right') "
      ],
      "execution_count": 53,
      "outputs": [
        {
          "output_type": "display_data",
          "data": {
            "image/png": "[encoded data removed]",
            "text/plain": [
              "<Figure size 720x504 with 1 Axes>"
            ]
          },
          "metadata": {
            "tags": [],
            "needs_background": "light"
          }
        }
      ]
    },
    {
      "cell_type": "code",
      "metadata": {
        "id": "PoL7TZ-NeT6P",
        "outputId": "f863a610-5509-4691-dabe-5efc2f449136",
        "colab": {
          "base_uri": "https://localhost:8080/",
          "height": 639
        }
      },
      "source": [
        "df.sort_values(\"Quantidade\", ascending=False).head(20)[[\"Nome\", \"Quantidade\"]]"
      ],
      "execution_count": 58,
      "outputs": [
        {
          "output_type": "execute_result",
          "data": {
            "text/html": [
              "<div>\n",
              "<style scoped>\n",
              "    .dataframe tbody tr th:only-of-type {\n",
              "        vertical-align: middle;\n",
              "    }\n",
              "\n",
              "    .dataframe tbody tr th {\n",
              "        vertical-align: top;\n",
              "    }\n",
              "\n",
              "    .dataframe thead th {\n",
              "        text-align: right;\n",
              "    }\n",
              "</style>\n",
              "<table border=\"1\" class=\"dataframe\">\n",
              "  <thead>\n",
              "    <tr style=\"text-align: right;\">\n",
              "      <th></th>\n",
              "      <th>Nome</th>\n",
              "      <th>Quantidade</th>\n",
              "    </tr>\n",
              "  </thead>\n",
              "  <tbody>\n",
              "    <tr>\n",
              "      <th>75</th>\n",
              "      <td>Machine Learning</td>\n",
              "      <td>180</td>\n",
              "    </tr>\n",
              "    <tr>\n",
              "      <th>9</th>\n",
              "      <td>Java para Web</td>\n",
              "      <td>180</td>\n",
              "    </tr>\n",
              "    <tr>\n",
              "      <th>73</th>\n",
              "      <td>Data Science</td>\n",
              "      <td>159</td>\n",
              "    </tr>\n",
              "    <tr>\n",
              "      <th>12</th>\n",
              "      <td>Java API</td>\n",
              "      <td>147</td>\n",
              "    </tr>\n",
              "    <tr>\n",
              "      <th>52</th>\n",
              "      <td>Cloud Computing</td>\n",
              "      <td>125</td>\n",
              "    </tr>\n",
              "    <tr>\n",
              "      <th>32</th>\n",
              "      <td>Desenvolvimento de jogos</td>\n",
              "      <td>112</td>\n",
              "    </tr>\n",
              "    <tr>\n",
              "      <th>80</th>\n",
              "      <td>Estatística</td>\n",
              "      <td>100</td>\n",
              "    </tr>\n",
              "    <tr>\n",
              "      <th>18</th>\n",
              "      <td>.NET para web</td>\n",
              "      <td>95</td>\n",
              "    </tr>\n",
              "    <tr>\n",
              "      <th>5</th>\n",
              "      <td>Lógica de programação</td>\n",
              "      <td>89</td>\n",
              "    </tr>\n",
              "    <tr>\n",
              "      <th>7</th>\n",
              "      <td>Node.JS</td>\n",
              "      <td>89</td>\n",
              "    </tr>\n",
              "    <tr>\n",
              "      <th>17</th>\n",
              "      <td>C#</td>\n",
              "      <td>84</td>\n",
              "    </tr>\n",
              "    <tr>\n",
              "      <th>88</th>\n",
              "      <td>Métodos Ágeis</td>\n",
              "      <td>82</td>\n",
              "    </tr>\n",
              "    <tr>\n",
              "      <th>8</th>\n",
              "      <td>Python web</td>\n",
              "      <td>69</td>\n",
              "    </tr>\n",
              "    <tr>\n",
              "      <th>36</th>\n",
              "      <td>Computação</td>\n",
              "      <td>60</td>\n",
              "    </tr>\n",
              "    <tr>\n",
              "      <th>26</th>\n",
              "      <td>PHP para web</td>\n",
              "      <td>49</td>\n",
              "    </tr>\n",
              "    <tr>\n",
              "      <th>23</th>\n",
              "      <td>Certificação C#</td>\n",
              "      <td>43</td>\n",
              "    </tr>\n",
              "    <tr>\n",
              "      <th>6</th>\n",
              "      <td>Python</td>\n",
              "      <td>41</td>\n",
              "    </tr>\n",
              "    <tr>\n",
              "      <th>53</th>\n",
              "      <td>Entrega Contínua</td>\n",
              "      <td>40</td>\n",
              "    </tr>\n",
              "    <tr>\n",
              "      <th>11</th>\n",
              "      <td>Java e persistência</td>\n",
              "      <td>38</td>\n",
              "    </tr>\n",
              "    <tr>\n",
              "      <th>47</th>\n",
              "      <td>Google Cloud Platform</td>\n",
              "      <td>37</td>\n",
              "    </tr>\n",
              "  </tbody>\n",
              "</table>\n",
              "</div>"
            ],
            "text/plain": [
              "                        Nome  Quantidade\n",
              "75          Machine Learning         180\n",
              "9              Java para Web         180\n",
              "73              Data Science         159\n",
              "12                  Java API         147\n",
              "52           Cloud Computing         125\n",
              "32  Desenvolvimento de jogos         112\n",
              "80               Estatística         100\n",
              "18             .NET para web          95\n",
              "5      Lógica de programação          89\n",
              "7                    Node.JS          89\n",
              "17                        C#          84\n",
              "88             Métodos Ágeis          82\n",
              "8                 Python web          69\n",
              "36                Computação          60\n",
              "26              PHP para web          49\n",
              "23           Certificação C#          43\n",
              "6                     Python          41\n",
              "53          Entrega Contínua          40\n",
              "11       Java e persistência          38\n",
              "47     Google Cloud Platform          37"
            ]
          },
          "metadata": {
            "tags": []
          },
          "execution_count": 58
        }
      ]
    },
    {
      "cell_type": "markdown",
      "metadata": {
        "id": "t08yMNHinHaL"
      },
      "source": [
        "Quantidade de pagina"
      ]
    },
    {
      "cell_type": "code",
      "metadata": {
        "id": "HdR-2J_6nI42"
      },
      "source": [
        "df[\"Qtd_pag\"] = [int(row/20) for row in df['Quantidade']]"
      ],
      "execution_count": 65,
      "outputs": []
    },
    {
      "cell_type": "code",
      "metadata": {
        "id": "f_s4uwrYnZBk",
        "outputId": "e5dd20ab-8490-4444-da56-ea50adf55afa",
        "colab": {
          "base_uri": "https://localhost:8080/",
          "height": 639
        }
      },
      "source": [
        "df.sort_values(\"Quantidade\", ascending=False).head(20)[[\"Nome\", \"Quantidade\", \"Qtd_pag\"]]"
      ],
      "execution_count": 66,
      "outputs": [
        {
          "output_type": "execute_result",
          "data": {
            "text/html": [
              "<div>\n",
              "<style scoped>\n",
              "    .dataframe tbody tr th:only-of-type {\n",
              "        vertical-align: middle;\n",
              "    }\n",
              "\n",
              "    .dataframe tbody tr th {\n",
              "        vertical-align: top;\n",
              "    }\n",
              "\n",
              "    .dataframe thead th {\n",
              "        text-align: right;\n",
              "    }\n",
              "</style>\n",
              "<table border=\"1\" class=\"dataframe\">\n",
              "  <thead>\n",
              "    <tr style=\"text-align: right;\">\n",
              "      <th></th>\n",
              "      <th>Nome</th>\n",
              "      <th>Quantidade</th>\n",
              "      <th>Qtd_pag</th>\n",
              "    </tr>\n",
              "  </thead>\n",
              "  <tbody>\n",
              "    <tr>\n",
              "      <th>75</th>\n",
              "      <td>Machine Learning</td>\n",
              "      <td>180</td>\n",
              "      <td>9</td>\n",
              "    </tr>\n",
              "    <tr>\n",
              "      <th>9</th>\n",
              "      <td>Java para Web</td>\n",
              "      <td>180</td>\n",
              "      <td>9</td>\n",
              "    </tr>\n",
              "    <tr>\n",
              "      <th>73</th>\n",
              "      <td>Data Science</td>\n",
              "      <td>159</td>\n",
              "      <td>7</td>\n",
              "    </tr>\n",
              "    <tr>\n",
              "      <th>12</th>\n",
              "      <td>Java API</td>\n",
              "      <td>147</td>\n",
              "      <td>7</td>\n",
              "    </tr>\n",
              "    <tr>\n",
              "      <th>52</th>\n",
              "      <td>Cloud Computing</td>\n",
              "      <td>125</td>\n",
              "      <td>6</td>\n",
              "    </tr>\n",
              "    <tr>\n",
              "      <th>32</th>\n",
              "      <td>Desenvolvimento de jogos</td>\n",
              "      <td>112</td>\n",
              "      <td>5</td>\n",
              "    </tr>\n",
              "    <tr>\n",
              "      <th>80</th>\n",
              "      <td>Estatística</td>\n",
              "      <td>100</td>\n",
              "      <td>5</td>\n",
              "    </tr>\n",
              "    <tr>\n",
              "      <th>18</th>\n",
              "      <td>.NET para web</td>\n",
              "      <td>95</td>\n",
              "      <td>4</td>\n",
              "    </tr>\n",
              "    <tr>\n",
              "      <th>5</th>\n",
              "      <td>Lógica de programação</td>\n",
              "      <td>89</td>\n",
              "      <td>4</td>\n",
              "    </tr>\n",
              "    <tr>\n",
              "      <th>7</th>\n",
              "      <td>Node.JS</td>\n",
              "      <td>89</td>\n",
              "      <td>4</td>\n",
              "    </tr>\n",
              "    <tr>\n",
              "      <th>17</th>\n",
              "      <td>C#</td>\n",
              "      <td>84</td>\n",
              "      <td>4</td>\n",
              "    </tr>\n",
              "    <tr>\n",
              "      <th>88</th>\n",
              "      <td>Métodos Ágeis</td>\n",
              "      <td>82</td>\n",
              "      <td>4</td>\n",
              "    </tr>\n",
              "    <tr>\n",
              "      <th>8</th>\n",
              "      <td>Python web</td>\n",
              "      <td>69</td>\n",
              "      <td>3</td>\n",
              "    </tr>\n",
              "    <tr>\n",
              "      <th>36</th>\n",
              "      <td>Computação</td>\n",
              "      <td>60</td>\n",
              "      <td>3</td>\n",
              "    </tr>\n",
              "    <tr>\n",
              "      <th>26</th>\n",
              "      <td>PHP para web</td>\n",
              "      <td>49</td>\n",
              "      <td>2</td>\n",
              "    </tr>\n",
              "    <tr>\n",
              "      <th>23</th>\n",
              "      <td>Certificação C#</td>\n",
              "      <td>43</td>\n",
              "      <td>2</td>\n",
              "    </tr>\n",
              "    <tr>\n",
              "      <th>6</th>\n",
              "      <td>Python</td>\n",
              "      <td>41</td>\n",
              "      <td>2</td>\n",
              "    </tr>\n",
              "    <tr>\n",
              "      <th>53</th>\n",
              "      <td>Entrega Contínua</td>\n",
              "      <td>40</td>\n",
              "      <td>2</td>\n",
              "    </tr>\n",
              "    <tr>\n",
              "      <th>11</th>\n",
              "      <td>Java e persistência</td>\n",
              "      <td>38</td>\n",
              "      <td>1</td>\n",
              "    </tr>\n",
              "    <tr>\n",
              "      <th>47</th>\n",
              "      <td>Google Cloud Platform</td>\n",
              "      <td>37</td>\n",
              "      <td>1</td>\n",
              "    </tr>\n",
              "  </tbody>\n",
              "</table>\n",
              "</div>"
            ],
            "text/plain": [
              "                        Nome  Quantidade  Qtd_pag\n",
              "75          Machine Learning         180        9\n",
              "9              Java para Web         180        9\n",
              "73              Data Science         159        7\n",
              "12                  Java API         147        7\n",
              "52           Cloud Computing         125        6\n",
              "32  Desenvolvimento de jogos         112        5\n",
              "80               Estatística         100        5\n",
              "18             .NET para web          95        4\n",
              "5      Lógica de programação          89        4\n",
              "7                    Node.JS          89        4\n",
              "17                        C#          84        4\n",
              "88             Métodos Ágeis          82        4\n",
              "8                 Python web          69        3\n",
              "36                Computação          60        3\n",
              "26              PHP para web          49        2\n",
              "23           Certificação C#          43        2\n",
              "6                     Python          41        2\n",
              "53          Entrega Contínua          40        2\n",
              "11       Java e persistência          38        1\n",
              "47     Google Cloud Platform          37        1"
            ]
          },
          "metadata": {
            "tags": []
          },
          "execution_count": 66
        }
      ]
    },
    {
      "cell_type": "markdown",
      "metadata": {
        "id": "hEem54whoAjL"
      },
      "source": [
        "#Sub Categorias com mais de duas paginas"
      ]
    },
    {
      "cell_type": "code",
      "metadata": {
        "id": "P3qLfJdNnq5h",
        "outputId": "22e7b378-2c4e-47bc-b2b7-2bbac9e5a7a9",
        "colab": {
          "base_uri": "https://localhost:8080/",
          "height": 533
        }
      },
      "source": [
        "plt.figure(figsize=(10,7))\n",
        "ax = sns.barplot(x=\"Nome\", y=\"Qtd_pag\", data=df.sort_values(\"Quantidade\", ascending=False).head(14), palette='crest')\n",
        "_ = plt.xticks(rotation=45, ha='right') "
      ],
      "execution_count": 69,
      "outputs": [
        {
          "output_type": "display_data",
          "data": {
            "image/png": "[encoded data removed]",
            "text/plain": [
              "<Figure size 720x504 with 1 Axes>"
            ]
          },
          "metadata": {
            "tags": [],
            "needs_background": "light"
          }
        }
      ]
    }
  ]
}