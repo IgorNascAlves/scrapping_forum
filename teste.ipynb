{
 "metadata": {
  "language_info": {
   "codemirror_mode": {
    "name": "ipython",
    "version": 3
   },
   "file_extension": ".py",
   "mimetype": "text/x-python",
   "name": "python",
   "nbconvert_exporter": "python",
   "pygments_lexer": "ipython3",
   "version": "3.9.0"
  },
  "orig_nbformat": 2,
  "kernelspec": {
   "name": "python3",
   "display_name": "Python 3.9.0 64-bit",
   "metadata": {
    "interpreter": {
     "hash": "28507ff82f7a6249121355dd710cf5a6f691ac69384b468748b19f7d810cf4b6"
    }
   }
  }
 },
 "nbformat": 4,
 "nbformat_minor": 2,
 "cells": [
  {
   "cell_type": "code",
   "execution_count": null,
   "metadata": {},
   "outputs": [],
   "source": [
    "import pandas as pd"
   ]
  },
  {
   "cell_type": "code",
   "execution_count": null,
   "metadata": {},
   "outputs": [],
   "source": [
    "url = 'https://cursos.alura.com.br/api/categorias'\n",
    "df = pd.read_json(url, orient='records')\n",
    "df"
   ]
  },
  {
   "cell_type": "code",
   "execution_count": null,
   "metadata": {},
   "outputs": [],
   "source": [
    "inicio = 'https://cursos.alura.com.br/forum/subcategoria-'\n",
    "fim = '/sem-resposta/1'\n",
    "lista_link_nome = [((inicio + subcategoria['slug'] + fim), subcategoria['nome']) for categoria in df['subcategorias'] for subcategoria in categoria]\n",
    "print(lista_link_nome[0][0])"
   ]
  },
  {
   "cell_type": "code",
   "execution_count": null,
   "metadata": {},
   "outputs": [],
   "source": [
    "df[['subcategorias']].iloc[0].to_json('teste.json', orient='records')"
   ]
  },
  {
   "cell_type": "code",
   "execution_count": null,
   "metadata": {},
   "outputs": [],
   "source": [
    "pd.read_json('teste.json', orient='records')"
   ]
  },
  {
   "cell_type": "code",
   "execution_count": null,
   "metadata": {},
   "outputs": [],
   "source": [
    "from datetime import datetime\n",
    "start_time = datetime.now()"
   ]
  },
  {
   "cell_type": "code",
   "execution_count": null,
   "metadata": {},
   "outputs": [],
   "source": [
    "from selenium import webdriver\n",
    "import pandas as pd\n",
    "\n",
    "driver = webdriver.Firefox(\"geckodriver-v0.29.0-win64\")\n",
    "\n",
    "url_base = \"https://cursos.alura.com.br/forum/todos/1\"\n",
    "\n",
    "driver.get(url_base)\n",
    "\n",
    "categorias = driver.find_elements_by_class_name(\"dashboard-list-subcategory-link\")\n",
    "\n",
    "categorias = [(categoria.get_attribute(\"href\"),categoria.get_attribute(\"text\").split()[0]) for categoria in categorias]\n",
    "\n",
    "df = pd.DataFrame(categorias)\n",
    "df.to_csv('teste.csv', header=False, index=False)"
   ]
  },
  {
   "source": [
    "# Modificação da url"
   ],
   "cell_type": "markdown",
   "metadata": {}
  },
  {
   "cell_type": "code",
   "execution_count": null,
   "metadata": {},
   "outputs": [],
   "source": [
    "import pandas as pd"
   ]
  },
  {
   "cell_type": "code",
   "execution_count": null,
   "metadata": {},
   "outputs": [],
   "source": [
    "df = pd.read_csv(\"teste.csv\",names=[\"URL\", 'nome'])\n",
    "df"
   ]
  },
  {
   "cell_type": "code",
   "execution_count": null,
   "metadata": {},
   "outputs": [],
   "source": [
    "df['url'] = [url[:-5] + 'sem-resposta/1' for url in df['URL']]"
   ]
  },
  {
   "source": [
    "# Contando numero de respostas abertas"
   ],
   "cell_type": "markdown",
   "metadata": {}
  },
  {
   "cell_type": "code",
   "execution_count": null,
   "metadata": {},
   "outputs": [],
   "source": [
    "import re\n",
    "import requests"
   ]
  },
  {
   "cell_type": "code",
   "execution_count": null,
   "metadata": {},
   "outputs": [],
   "source": [
    "lista = []\n",
    "for url in df['URL']:\n",
    "    sessao = requests.Session()\n",
    "    resposta = sessao.get(url)\n",
    "    regex = 'paginationLink'\n",
    "    count = len(re.findall(regex, str(resposta.content)))\n",
    "\n",
    "    resposta = sessao.get(url)\n",
    "    regex = 'class=\"forumList-item-subject\"'\n",
    "    count_page = len(re.findall(regex, str(resposta.content)))\n",
    "\n",
    "    resposta = sessao.get(url[:-1] + str(count))\n",
    "    regex = 'class=\"forumList-item-subject\"'\n",
    "    count_last_pag = len(re.findall(regex, str(resposta.content)))\n",
    "\n",
    "    total_sub = count_last_pag + ((count - 1) * count_page) if count else count_last_pag\n",
    "    lista.append(total_sub)"
   ]
  },
  {
   "cell_type": "code",
   "execution_count": null,
   "metadata": {},
   "outputs": [],
   "source": [
    "df['count'] = lista"
   ]
  },
  {
   "cell_type": "code",
   "execution_count": null,
   "metadata": {},
   "outputs": [],
   "source": [
    "df.to_csv('teste2.csv', index=False)"
   ]
  },
  {
   "source": [
    "# arquivo com o numero de perguntas"
   ],
   "cell_type": "markdown",
   "metadata": {}
  },
  {
   "cell_type": "code",
   "execution_count": null,
   "metadata": {},
   "outputs": [],
   "source": [
    "df = pd.read_csv(\"teste2.csv\")\n",
    "df"
   ]
  },
  {
   "cell_type": "code",
   "execution_count": null,
   "metadata": {},
   "outputs": [],
   "source": [
    "print(df.iloc[110][-2], df.iloc[110][-1], sep='\\n')"
   ]
  },
  {
   "cell_type": "code",
   "execution_count": null,
   "metadata": {},
   "outputs": [],
   "source": [
    "url = 'https://cursos.alura.com.br/forum/subcategoria-praticas-gestao-waterfall-hibridas/sem-resposta/1'\n",
    "\n",
    "sessao = requests.Session()\n",
    "resposta = sessao.get(url)\n",
    "regex = 'paginationLink'\n",
    "count = len(re.findall(regex, str(resposta.content)))\n",
    "\n",
    "resposta = sessao.get(url)\n",
    "regex = 'class=\"forumList-item-subject\"'\n",
    "count_page = len(re.findall(regex, str(resposta.content)))\n",
    "\n",
    "resposta = sessao.get(url[:-1] + str(count))\n",
    "regex = 'class=\"forumList-item-subject\"'\n",
    "count_last_pag = len(re.findall(regex, str(resposta.content)))\n",
    "\n",
    "total_sub = count_last_pag + ((count - 1) * count_page) if count else count_last_pag"
   ]
  },
  {
   "cell_type": "code",
   "execution_count": null,
   "metadata": {},
   "outputs": [],
   "source": [
    "total_sub"
   ]
  }
 ]
}